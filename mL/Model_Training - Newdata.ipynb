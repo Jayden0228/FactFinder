{
 "cells": [
  {
   "cell_type": "code",
   "execution_count": 4,
   "id": "ca89731b",
   "metadata": {},
   "outputs": [
    {
     "name": "stdout",
     "output_type": "stream",
     "text": [
      "Label    0\n",
      "News     8\n",
      "dtype: int64\n",
      "Label    0\n",
      "News     0\n",
      "dtype: int64\n"
     ]
    }
   ],
   "source": [
    "# import pandas as pd\n",
    "\n",
    "# # Read the CSV file\n",
    "# df = pd.read_csv(\"news_dataset.csv\", encoding='latin1')\n",
    "\n",
    "# # Check for missing values\n",
    "# print(df.isnull().sum())\n",
    "\n",
    "# # Drop rows with null values\n",
    "# df = df.dropna()\n",
    "\n",
    "# # Verify null values are dropped\n",
    "# print(df.isnull().sum())\n",
    "\n",
    "# df.to_csv(\"news_dataset.csv\", index=False)\n"
   ]
  },
  {
   "cell_type": "code",
   "execution_count": 5,
   "id": "625296c4",
   "metadata": {},
   "outputs": [
    {
     "data": {
      "text/plain": [
       "FAKE    1871\n",
       "REAL    1850\n",
       "Name: Label, dtype: int64"
      ]
     },
     "execution_count": 5,
     "metadata": {},
     "output_type": "execute_result"
    }
   ],
   "source": [
    "import pandas as pd\n",
    "from nltk.corpus import stopwords\n",
    "from nltk.stem import PorterStemmer\n",
    "from sklearn.model_selection import train_test_split\n",
    "from sklearn.feature_extraction.text import TfidfVectorizer\n",
    "from sklearn.svm import SVC\n",
    "import re\n",
    "import pickle\n",
    "\n",
    "# Read the CSV file\n",
    "df = pd.read_csv(\"news_dataset.csv\", encoding='latin1')\n",
    "\n",
    "# Check for missing values\n",
    "df.isnull().sum()\n",
    "\n",
    "# Get class counts\n",
    "class_count = df[\"Label\"].value_counts()\n",
    "class_count"
   ]
  },
  {
   "cell_type": "code",
   "execution_count": 6,
   "id": "59fac80c",
   "metadata": {},
   "outputs": [
    {
     "data": {
      "text/plain": [
       "Label    0\n",
       "News     0\n",
       "dtype: int64"
      ]
     },
     "execution_count": 6,
     "metadata": {},
     "output_type": "execute_result"
    }
   ],
   "source": [
    "df.isnull().sum()"
   ]
  },
  {
   "cell_type": "code",
   "execution_count": 7,
   "id": "6008b952",
   "metadata": {},
   "outputs": [
    {
     "name": "stdout",
     "output_type": "stream",
     "text": [
      "Accuracy: 0.9959731543624161\n"
     ]
    }
   ],
   "source": [
    "# Perform stemming\n",
    "porter_stem = PorterStemmer()\n",
    "\n",
    "def stemming(content):\n",
    "    con = re.sub('[^a-zA-Z]', ' ', content)\n",
    "    con = con.lower()\n",
    "    con = con.split()\n",
    "    con = [porter_stem.stem(word) for word in con if not word in stopwords.words('english')]\n",
    "    con = ' '.join(con)\n",
    "    return con\n",
    "\n",
    "df['News'] = df['News'].apply(stemming)\n",
    "\n",
    "# Split data into features and labels\n",
    "x = df['News']\n",
    "y = df['Label']\n",
    "\n",
    "# Split data into training and testing sets\n",
    "x_train, x_test, y_train, y_test = train_test_split(x, y, test_size=0.20)\n",
    "\n",
    "# Create TF-IDF vectorizer\n",
    "vect = TfidfVectorizer()\n",
    "\n",
    "# Fit and transform the training data\n",
    "x_train = vect.fit_transform(x_train)\n",
    "\n",
    "# Transform the testing data\n",
    "x_test = vect.transform(x_test)\n",
    "\n",
    "# Create and train the SVM model\n",
    "model = SVC()\n",
    "model.fit(x_train, y_train)\n",
    "\n",
    "# Make predictions on the testing data\n",
    "prediction = model.predict(x_test)\n",
    "\n",
    "# Calculate the model accuracy\n",
    "accuracy = model.score(x_test, y_test)\n",
    "print(\"Accuracy:\", accuracy)\n",
    "\n",
    "# Save the vectorizer and model using pickle\n",
    "pickle.dump(vect, open('vector.pkl', 'wb'))\n",
    "pickle.dump(model, open('model.pkl', 'wb'))\n",
    "\n",
    "# Load the vectorizer and model from the saved files\n",
    "vector_form = pickle.load(open('vector.pkl', 'rb'))\n",
    "load_model = pickle.load(open('model.pkl', 'rb'))\n",
    "\n",
    "# Function to classify news as fake or not\n",
    "def fake_news(news):\n",
    "    news = stemming(news)\n",
    "    input_data = [news]\n",
    "    vector_form1 = vector_form.transform(input_data)\n",
    "    prediction = load_model.predict(vector_form1)\n",
    "    return prediction\n",
    "\n"
   ]
  },
  {
   "cell_type": "code",
   "execution_count": 12,
   "id": "02a38900",
   "metadata": {},
   "outputs": [
    {
     "name": "stdout",
     "output_type": "stream",
     "text": [
      "['FAKE']\n"
     ]
    }
   ],
   "source": [
    "# Test the function with a news input\n",
    "result = fake_news('''Video of Rahul Gandhi refusing to do aarti''')\n",
    "print(result)\n"
   ]
  }
 ],
 "metadata": {
  "kernelspec": {
   "display_name": "Python 3 (ipykernel)",
   "language": "python",
   "name": "python3"
  },
  "language_info": {
   "codemirror_mode": {
    "name": "ipython",
    "version": 3
   },
   "file_extension": ".py",
   "mimetype": "text/x-python",
   "name": "python",
   "nbconvert_exporter": "python",
   "pygments_lexer": "ipython3",
   "version": "3.10.6"
  }
 },
 "nbformat": 4,
 "nbformat_minor": 5
}
